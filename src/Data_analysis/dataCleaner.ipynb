{
 "cells": [
  {
   "cell_type": "code",
   "execution_count": 1,
   "metadata": {},
   "outputs": [],
   "source": [
    "import numpy as np\n",
    "import matplotlib.pyplot as plt\n",
    "import pandas as pd\n",
    "\n",
    "# To use this experimental feature, we need to explicitly ask for it:\n",
    "from sklearn.experimental import enable_iterative_imputer  # noqa\n",
    "from sklearn.datasets import fetch_california_housing\n",
    "from sklearn.impute import SimpleImputer\n",
    "from sklearn.impute import IterativeImputer\n",
    "from sklearn.linear_model import BayesianRidge\n",
    "from sklearn.tree import DecisionTreeRegressor\n",
    "from sklearn.ensemble import ExtraTreesRegressor\n",
    "from sklearn.neighbors import KNeighborsRegressor\n",
    "from sklearn.pipeline import make_pipeline\n",
    "from sklearn.model_selection import cross_val_score\n"
   ]
  },
  {
   "cell_type": "code",
   "execution_count": 2,
   "metadata": {},
   "outputs": [
    {
     "name": "stdout",
     "output_type": "stream",
     "text": [
      "['Year', 'Country', 'International_Aviation', 'International_Navigation', 'Manufacturing_Industries', 'Petroleum_Refining', 'Public_Electricity_and_Heat_Production', 'Energy_CO2_Emissions']\n",
      "['Year', 'Country', 'Mineral_Industry', 'Chemical_Industry', 'Metal_Industry', 'Industrial_Process_Emissions']\n",
      "['Year', 'Country', 'Forestland', 'Cropland ', 'Grassland ', 'Harvested_Wood_Products', 'Land_Use_Emissions']\n",
      "['Year', 'Country', 'Energy_Emissions', 'Industrial_Process_Emissions', 'Land_Use_Emissions', 'Transport_Emissions', 'Total CO2 Emissions']\n",
      "['Year', 'Country', 'Domestic_Aviation', 'Road_Transportation', 'Railways', 'Transport_Emissions']\n"
     ]
    }
   ],
   "source": [
    "fileNames = [\"DataEnergyEmissions\",\"DataIndusProcessEmissions\",\"DataLandUseEmissions\",\"DataMain\",\"DataTransportEmissions\"]\n",
    "for fileName in fileNames:\n",
    "    data = pd.read_excel('C:\\\\Users\\\\Rishav\\\\Python Programs\\\\Advanced Machine Intelligence\\\\group15\\\\Dataset\\\\processed_data\\\\'\\\n",
    "                         +str(fileName)+'.xlsx')\n",
    "    data = data.replace(0,np.nan)\n",
    "#     data.iloc[list((data.isna()).any(1).nonzero()[0])]\n",
    "    column_names = list(data.columns)\n",
    "    column_names_withoutYrCountry = column_names.copy()\n",
    "    column_names_withoutYrCountry.remove('Year')\n",
    "    column_names_withoutYrCountry.remove('Country')\n",
    "    print(column_names)\n",
    "    X = data[column_names]\n",
    "    # y = dataEnergy[\"Energy_CO2_Emissions\"]\n",
    "    years = pd.Series(data['Year']).dropna().unique()\n",
    "    countries = pd.Series(X['Country']).dropna().unique()\n",
    "    \n",
    "    for country in countries:\n",
    "        X_countrySpec = pd.DataFrame()\n",
    "        X_countrySpec = X.loc[X[\"Country\"].isin([country,]),column_names_withoutYrCountry]\n",
    "    #     print(X_countrySpec.head())\n",
    "        cust_imputer = SimpleImputer(missing_values=np.nan, strategy=\"mean\")\n",
    "        X.loc[X[\"Country\"].isin([country,]),column_names_withoutYrCountry] = cust_imputer.fit_transform(X_countrySpec)\n",
    "    \n",
    "    X.to_excel('C:\\\\Users\\\\Rishav\\\\Python Programs\\\\Advanced Machine Intelligence\\\\group15\\\\Dataset\\\\imputed_data\\\\'\\\n",
    "               +str(fileName)+'Imputed.xlsx', index=False)\n"
   ]
  }
 ],
 "metadata": {
  "kernelspec": {
   "display_name": "Python 3",
   "language": "python",
   "name": "python3"
  },
  "language_info": {
   "codemirror_mode": {
    "name": "ipython",
    "version": 3
   },
   "file_extension": ".py",
   "mimetype": "text/x-python",
   "name": "python",
   "nbconvert_exporter": "python",
   "pygments_lexer": "ipython3",
   "version": "3.7.3"
  }
 },
 "nbformat": 4,
 "nbformat_minor": 4
}
